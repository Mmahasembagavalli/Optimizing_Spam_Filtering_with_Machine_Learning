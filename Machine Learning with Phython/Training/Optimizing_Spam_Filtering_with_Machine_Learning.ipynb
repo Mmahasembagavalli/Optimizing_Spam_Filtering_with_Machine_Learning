{
  "cells": [
    {
      "cell_type": "code",
      "execution_count": null,
      "metadata": {
        "colab": {
          "base_uri": "https://localhost:8080/",
          "height": 281
        },
        "id": "C4HZx7Gndbrh",
        "outputId": "46abc637-6abd-41b2-9bba-80a7ae992e06"
      },
      "outputs": [
        {
          "data": {
            "image/png": "[encoded data removed]",
            "text/plain": [
              "<Figure size 432x288 with 1 Axes>"
            ]
          },
          "metadata": {
            "tags": []
          },
          "output_type": "display_data"
        }
      ],
      "source": [
        "import numpy as np\n",
        "from matplotlib import pyplot as plt\n",
        "\n",
        "ys = 200 + np.random.randn(100)\n",
        "x = [x for x in range(len(ys))]\n",
        "\n",
        "plt.plot(x, ys, '-')\n",
        "plt.fill_between(x, ys, 195, where=(ys > 195), facecolor='g', alpha=0.6)\n",
        "\n",
        "plt.title(\"Sample Visualization\")\n",
        "plt.show()"
      ]
    },
    {
      "cell_type": "markdown",
      "metadata": {
        "id": "4_kCnsPUqS6o"
      },
      "source": [
        "You can import your own data into Colab notebooks from your Google Drive account, including from spreadsheets, as well as from Github and many other sources. To learn more about importing data, and how Colab can be used for data science, see the links below under [Working with Data](#working-with-data)."
      ]
    },
    {
      "cell_type": "markdown",
      "metadata": {
        "id": "OwuxHmxllTwN"
      },
      "source": [
        "<div class=\"markdown-google-sans\">\n",
        "\n",
        "## Machine learning\n",
        "</div>\n",
        "\n",
        "With Colab you can import an image dataset, train an image classifier on it, and evaluate the model, all in just [a few lines of code](https://colab.research.google.com/github/tensorflow/docs/blob/master/site/en/tutorials/quickstart/beginner.ipynb). Colab notebooks execute code on Google's cloud servers, meaning you can leverage the power of Google hardware, including [GPUs and TPUs](#using-accelerated-hardware), regardless of the power of your machine. All you need is a browser."
      ]
    },
    {
      "cell_type": "code",
      "source": [
        "import pandas as pd"
      ],
      "metadata": {
        "id": "FincFBPsAZ-Q"
      },
      "execution_count": null,
      "outputs": []
    },
    {
      "cell_type": "code",
      "source": [
        "df = pd.read_csv('/kaggle/input/sms-spam-collection-dataset/spam.csv', encoding=\"latin-1\")"
      ],
      "metadata": {
        "id": "Z_bf-tFaA8q_"
      },
      "execution_count": null,
      "outputs": []
    },
    {
      "cell_type": "code",
      "source": [
        "df.head()"
      ],
      "metadata": {
        "id": "PdsuDkUzBW1k"
      },
      "execution_count": null,
      "outputs": []
    },
    {
      "cell_type": "code",
      "source": [
        "df.tail()"
      ],
      "metadata": {
        "id": "8rkk6gaXBcYA"
      },
      "execution_count": null,
      "outputs": []
    },
    {
      "cell_type": "code",
      "source": [
        "df = df.dropna(how=\"any\", axis=1)"
      ],
      "metadata": {
        "id": "7IdwJZPFBdfA"
      },
      "execution_count": null,
      "outputs": []
    },
    {
      "cell_type": "code",
      "source": [
        "df.columns = ['target', 'message']"
      ],
      "metadata": {
        "id": "_CTnoi0MBh88"
      },
      "execution_count": null,
      "outputs": []
    },
    {
      "cell_type": "code",
      "source": [
        "df.head()"
      ],
      "metadata": {
        "id": "Dg0jZEM4Bk51"
      },
      "execution_count": null,
      "outputs": []
    },
    {
      "cell_type": "code",
      "source": [
        "df.tail()"
      ],
      "metadata": {
        "id": "NHiLmWeuBnuc"
      },
      "execution_count": null,
      "outputs": []
    },
    {
      "cell_type": "code",
      "source": [
        "df.shape"
      ],
      "metadata": {
        "id": "AS6M5ZbcBsN7"
      },
      "execution_count": null,
      "outputs": []
    },
    {
      "cell_type": "code",
      "source": [
        "df.columns"
      ],
      "metadata": {
        "id": "7zj6XCo1BwXQ"
      },
      "execution_count": null,
      "outputs": []
    },
    {
      "cell_type": "code",
      "source": [
        "df.duplicated().sum()"
      ],
      "metadata": {
        "id": "eyOD7_VnBz4I"
      },
      "execution_count": null,
      "outputs": []
    },
    {
      "cell_type": "code",
      "source": [
        "df = df.drop_duplicates()"
      ],
      "metadata": {
        "id": "3uGXhqprB3MF"
      },
      "execution_count": null,
      "outputs": []
    },
    {
      "cell_type": "code",
      "source": [
        "df.isnull().sum()"
      ],
      "metadata": {
        "id": "C1Dmpf3sB7DP"
      },
      "execution_count": null,
      "outputs": []
    },
    {
      "cell_type": "code",
      "source": [
        "df.nunique()"
      ],
      "metadata": {
        "id": "9kttas-QB9t6"
      },
      "execution_count": null,
      "outputs": []
    },
    {
      "cell_type": "code",
      "source": [
        "import nltk\n",
        "from nltk.tokenize import word_tokenize, sent_tokenize\n",
        "df['num_char'] = df['message'].apply(len)\n",
        "df.head()"
      ],
      "metadata": {
        "id": "ti9h2hEmCBPN"
      },
      "execution_count": null,
      "outputs": []
    },
    {
      "cell_type": "code",
      "source": [
        "df[\"num_wd\"] = df.apply(lambda row: nltk.word_tokenize(row[\"message\"]), axis=1).apply(len)\n",
        "df[\"num_sn\"] = df.apply(lambda row: nltk.sent_tokenize(row[\"message\"]), axis=1).apply(len)\n",
        "df.head()"
      ],
      "metadata": {
        "id": "oaYQ3-D5CFlU"
      },
      "execution_count": null,
      "outputs": []
    },
    {
      "cell_type": "code",
      "source": [
        "df.head()"
      ],
      "metadata": {
        "id": "tQ-7CtoSCKR8"
      },
      "execution_count": null,
      "outputs": []
    },
    {
      "cell_type": "code",
      "source": [
        "df.describe().T.style.background_gradient(cmap = \"Purples_r\")"
      ],
      "metadata": {
        "id": "xuM1snGTCO13"
      },
      "execution_count": null,
      "outputs": []
    },
    {
      "cell_type": "code",
      "source": [
        "import matplotlib.pyplot as plt\n",
        "import seaborn as sns\n",
        "from plotly import graph_objs as go\n",
        "import plotly.express as px\n",
        "import plotly.figure_factory as ff\n",
        "import warnings\n",
        "warnings.filterwarnings('ignore')"
      ],
      "metadata": {
        "id": "kHDuTLIVCTa3"
      },
      "execution_count": null,
      "outputs": []
    },
    {
      "cell_type": "code",
      "source": [
        "df['target'].unique()\n",
        "\n"
      ],
      "metadata": {
        "id": "EJguERFCCbcp"
      },
      "execution_count": null,
      "outputs": []
    },
    {
      "cell_type": "code",
      "source": [
        "df['target'].value_counts()"
      ],
      "metadata": {
        "id": "5MN6O5niCmzX"
      },
      "execution_count": null,
      "outputs": []
    },
    {
      "cell_type": "code",
      "source": [
        "plt.figure(figsize=(18, 8))\n",
        "plt.subplot(1, 2, 1)\n",
        "df.target.value_counts().plot(kind=\"pie\",\n",
        "                          fontsize=16,                  \n",
        "                          labels=[\"Spam\", \"Ham\"],\n",
        "                          ylabel=\"Spam vs Ham\",\n",
        "                          autopct='%1.1f%%');\n",
        "\n",
        "plt.subplot(1, 2, 2)\n",
        "sns.countplot(x=\"target\",data=df, palette=\"pastel\")\n",
        "plt.show()"
      ],
      "metadata": {
        "id": "ZSOYpJysCqfC"
      },
      "execution_count": null,
      "outputs": []
    },
    {
      "cell_type": "code",
      "source": [
        "balance_counts = df.groupby('target')['target'].agg('count').values\n",
        "balance_counts"
      ],
      "metadata": {
        "id": "uvOgb6pnCws5"
      },
      "execution_count": null,
      "outputs": []
    },
    {
      "cell_type": "code",
      "source": [
        "fig = go.Figure()\n",
        "fig.add_trace(go.Bar(\n",
        "    x=['ham'],\n",
        "    y=[balance_counts[0]],\n",
        "    name='ham',\n",
        "    text=[balance_counts[0]],\n",
        "    textposition='auto',\n",
        "    marker_color= 'blue'\n",
        "))\n",
        "fig.add_trace(go.Bar(\n",
        "    x=['spam'],\n",
        "    y=[balance_counts[1]],\n",
        "    name='spam',\n",
        "    text=[balance_counts[1]],\n",
        "    textposition='auto',\n",
        "    marker_color= 'red'\n",
        "))\n",
        "fig.update_layout(\n",
        "    title='<span style=\"font-size:32px; font-family:Times New Roman\">Dataset distribution by target</span>'\n",
        ")\n",
        "fig.show()"
      ],
      "metadata": {
        "id": "9gaPvwZrC0v-"
      },
      "execution_count": null,
      "outputs": []
    },
    {
      "cell_type": "code",
      "source": [
        "ham_df = df[df['target'] == 'ham']['num_wd'].value_counts().sort_index()\n",
        "spam_df = df[df['target'] == 'spam']['num_wd'].value_counts().sort_index()\n",
        "\n",
        "fig = go.Figure()\n",
        "fig.add_trace(go.Scatter(\n",
        "    x=ham_df.index,\n",
        "    y=ham_df.values,\n",
        "    name='ham',\n",
        "    fill='tozeroy',\n",
        "    marker_color= 'blue',\n",
        "))\n",
        "fig.add_trace(go.Scatter(\n",
        "    x=spam_df.index,\n",
        "    y=spam_df.values,\n",
        "    name='spam',\n",
        "    fill='tozeroy',\n",
        "    marker_color= 'red',\n",
        "))\n",
        "fig.update_layout(\n",
        "    title='<span style=\"font-size:32px; font-family:Times New Roman\">Data Distribution in Different Fields</span>'\n",
        ")\n",
        "fig.update_xaxes(range=[0, 70])\n",
        "fig.show()\n"
      ],
      "metadata": {
        "id": "5GFJ61BvDJZq"
      },
      "execution_count": null,
      "outputs": []
    },
    {
      "cell_type": "code",
      "source": [
        "#https://www.kaggle.com/code/casper6290/sms-spam-ham-99-acc?cellIds=29&kernelSessionId=101302412\n",
        "import numpy as np\n",
        "view=df.groupby('target').agg([np.mean,np.std,len,np.min,np.max])\n",
        "view.plot(kind='bar',figsize=(15,8),title='Comparision between the classes',logy=True)"
      ],
      "metadata": {
        "id": "OxvWzfbrDRok"
      },
      "execution_count": null,
      "outputs": []
    },
    {
      "cell_type": "code",
      "source": [
        "sns.pairplot(df,hue='target')"
      ],
      "metadata": {
        "id": "ZN57pYUaDXUA"
      },
      "execution_count": null,
      "outputs": []
    },
    {
      "cell_type": "code",
      "source": [
        "def clean_text(text):\n",
        "    text = text.lower() \n",
        "    return text.strip()"
      ],
      "metadata": {
        "id": "cQ8Y-vOyDcGS"
      },
      "execution_count": null,
      "outputs": []
    },
    {
      "cell_type": "code",
      "source": [
        "df['new_message'] = df.message.apply(lambda x: clean_text(x))"
      ],
      "metadata": {
        "id": "AyD2TeC2Dg9b"
      },
      "execution_count": null,
      "outputs": []
    },
    {
      "cell_type": "code",
      "source": [
        "import string\n",
        "string.punctuation"
      ],
      "metadata": {
        "id": "dgf5gcMUDkbV"
      },
      "execution_count": null,
      "outputs": []
    },
    {
      "cell_type": "code",
      "source": [
        "def remove_punctuation(text):\n",
        "    punctuationfree=\"\".join([i for i in text if i not in string.punctuation])\n",
        "    return punctuationfree\n",
        "df['new_message']= df['new_message'].apply(lambda x:remove_punctuation(x))"
      ],
      "metadata": {
        "id": "whe8G16YDliM"
      },
      "execution_count": null,
      "outputs": []
    },
    {
      "cell_type": "code",
      "source": [
        "import re\n",
        "def tokenization(text):\n",
        "    tokens = re.split('W+',text)\n",
        "    return tokens\n",
        "df['new_message']= df['new_message'].apply(lambda x: tokenization(x))"
      ],
      "metadata": {
        "id": "Ig17kHZlDt60"
      },
      "execution_count": null,
      "outputs": []
    },
    {
      "cell_type": "code",
      "source": [
        "import nltk\n",
        "stopwords = nltk.corpus.stopwords.words('english')\n",
        "stopwords[0:10]\n",
        "['i', 'me', 'my', 'myself', 'we', 'our', 'ours', 'ourselves', 'you', \"you're\"]"
      ],
      "metadata": {
        "id": "EtUuKi3oD1lg"
      },
      "execution_count": null,
      "outputs": []
    },
    {
      "cell_type": "code",
      "source": [
        "def remove_stopwords(text):\n",
        "    output= \" \".join(i for i in text if i not in stopwords)\n",
        "    return output"
      ],
      "metadata": {
        "id": "mVqEI5hbD2Js"
      },
      "execution_count": null,
      "outputs": []
    },
    {
      "cell_type": "code",
      "source": [
        "df['new_message']= df['new_message'].apply(lambda x:remove_stopwords(x))"
      ],
      "metadata": {
        "id": "fOUFrIzRD5bq"
      },
      "execution_count": null,
      "outputs": []
    },
    {
      "cell_type": "code",
      "source": [
        "from nltk.stem.porter import PorterStemmer\n",
        "porter_stemmer = PorterStemmer()"
      ],
      "metadata": {
        "id": "feWjwnlpD8pK"
      },
      "execution_count": null,
      "outputs": []
    },
    {
      "cell_type": "code",
      "source": [
        "def stemming(text):\n",
        "    stem_text = \"\".join([porter_stemmer.stem(word) for word in text])\n",
        "    return stem_text\n",
        "df['new_message']=df['new_message'].apply(lambda x: stemming(x))"
      ],
      "metadata": {
        "id": "8Ef7E5zTEA9P"
      },
      "execution_count": null,
      "outputs": []
    },
    {
      "cell_type": "code",
      "source": [
        "from nltk.stem import WordNetLemmatizer\n",
        "wordnet_lemmatizer = WordNetLemmatizer()\n",
        "from spacy import load"
      ],
      "metadata": {
        "id": "6aUatwG5ED9m"
      },
      "execution_count": null,
      "outputs": []
    },
    {
      "cell_type": "code",
      "source": [
        "nltk.download('wordnet')\n",
        "nltk.download('wordnet2022')\n",
        "nlp = load('en_core_web_sm')\n",
        "[nltk_data] Downloading package wordnet to /usr/share/nltk_data...\n",
        "[nltk_data]   Package wordnet is already up-to-date!\n",
        "[nltk_data] Downloading package wordnet2022 to /usr/share/nltk_data...\n",
        "[nltk_data]   Unzipping corpora/wordnet2022.zip."
      ],
      "metadata": {
        "id": "KAZyI_3gEGxL"
      },
      "execution_count": null,
      "outputs": []
    },
    {
      "cell_type": "code",
      "source": [
        "def lemmatizer(text):\n",
        "    lemm_text = \"\".join([wordnet_lemmatizer.lemmatize(word) for word in text])\n",
        "    return lemm_text\n",
        "df['new_message']=df['new_message'].apply(lambda x:lemmatizer(x))"
      ],
      "metadata": {
        "id": "QHh7JVlSEQ15"
      },
      "execution_count": null,
      "outputs": []
    },
    {
      "cell_type": "code",
      "source": [
        "def clean_text(text):\n",
        "    text = re.sub('\\[.*\\]','', text).strip() # Remove text in square brackets\n",
        "    text = re.sub('\\S*\\d\\S*\\s*','', text).strip()  # Remove words containing numbers\n",
        "    return text.strip()"
      ],
      "metadata": {
        "id": "MDLV88YmEWEu"
      },
      "execution_count": null,
      "outputs": []
    },
    {
      "cell_type": "code",
      "source": [
        "df['new_message'] = df.new_message.apply(lambda x: clean_text(x))"
      ],
      "metadata": {
        "id": "ARo7_7b8EZVm"
      },
      "execution_count": null,
      "outputs": []
    },
    {
      "cell_type": "code",
      "source": [
        "stopwords = nlp.Defaults.stop_words\n",
        "def lemmatizer(text):\n",
        "    doc = nlp(text)\n",
        "    sent = [token.lemma_ for token in doc if not token.text in set(stopwords)]\n",
        "    return ' '.join(sent)"
      ],
      "metadata": {
        "id": "KYJMgk7pEcl-"
      },
      "execution_count": null,
      "outputs": []
    },
    {
      "cell_type": "code",
      "source": [
        "df['new_message'] =  df.new_message.apply(lambda x: lemmatizer(x))"
      ],
      "metadata": {
        "id": "q6nLxE3pEfgv"
      },
      "execution_count": null,
      "outputs": []
    },
    {
      "cell_type": "code",
      "source": [
        "def remove_urls(vTEXT):\n",
        "    vTEXT = re.sub(r'(https|http)?:\\/\\/(\\w|\\.|\\/|\\?|\\=|\\&|\\%)*\\b', '', vTEXT, flags=re.MULTILINE)\n",
        "    return(vTEXT)"
      ],
      "metadata": {
        "id": "5M4vG_ipEjH1"
      },
      "execution_count": null,
      "outputs": []
    },
    {
      "cell_type": "code",
      "source": [
        "df['new_message'] = df.new_message.apply(lambda x: remove_urls(x))"
      ],
      "metadata": {
        "id": "90ZsivqSEnrH"
      },
      "execution_count": null,
      "outputs": []
    },
    {
      "cell_type": "code",
      "source": [
        "def remove_digits(text):\n",
        "    clean_text = re.sub(r\"\\b[0-9]+\\b\\s*\", \"\", text)\n",
        "    return(text)"
      ],
      "metadata": {
        "id": "dNO2fOCqErk-"
      },
      "execution_count": null,
      "outputs": []
    },
    {
      "cell_type": "code",
      "source": [
        "df['new_message'] = df.new_message.apply(lambda x: remove_digits(x))"
      ],
      "metadata": {
        "id": "pkD-i2R2E9Bm"
      },
      "execution_count": null,
      "outputs": []
    },
    {
      "cell_type": "code",
      "source": [
        "def remove_digits1(sample_text):\n",
        "    clean_text = \" \".join([w for w in sample_text.split() if not w.isdigit()]) # Side effect: removes extra spaces\n",
        "    return(clean_text)"
      ],
      "metadata": {
        "id": "sUFaO0RkFBH3"
      },
      "execution_count": null,
      "outputs": []
    },
    {
      "cell_type": "code",
      "source": [
        "df['new_message'] = df.new_message.apply(lambda x: remove_digits1(x))"
      ],
      "metadata": {
        "id": "q0Tzt_73FD7Z"
      },
      "execution_count": null,
      "outputs": []
    },
    {
      "cell_type": "code",
      "source": [
        "def remove_emojis(data):\n",
        "    emoji_pattern = re.compile(\"[\"\n",
        "                               u\"\\U0001F600-\\U0001F64F\"  # emoticons\n",
        "                               u\"\\U0001F300-\\U0001F5FF\"  # symbols & pictographs\n",
        "                               u\"\\U0001F680-\\U0001F6FF\"  # transport & map symbols\n",
        "                               u\"\\U0001F1E0-\\U0001F1FF\"  # flags (iOS)\n",
        "                               \"]+\", flags=re.UNICODE)\n",
        "    return re.sub(emoji_pattern, '', data)"
      ],
      "metadata": {
        "id": "LuSCZkelFGZ4"
      },
      "execution_count": null,
      "outputs": []
    },
    {
      "cell_type": "code",
      "source": [
        "df['new_message'] = df.new_message.apply(lambda x: remove_emojis(x))"
      ],
      "metadata": {
        "id": "a_ZdJ4mmFJuP"
      },
      "execution_count": null,
      "outputs": []
    },
    {
      "cell_type": "code",
      "source": [
        "df['new_message']"
      ],
      "metadata": {
        "id": "DNH9QD-sFM1d"
      },
      "execution_count": null,
      "outputs": []
    },
    {
      "cell_type": "code",
      "source": [
        "from sklearn.preprocessing import LabelEncoder\n",
        "\n",
        "le = LabelEncoder()\n",
        "le.fit(df['target'])\n",
        "\n",
        "df['target_encoded'] = le.transform(df['target'])\n",
        "df.head()"
      ],
      "metadata": {
        "id": "MzGtZiGQFPWF"
      },
      "execution_count": null,
      "outputs": []
    },
    {
      "cell_type": "code",
      "source": [
        "from PIL import Image\n",
        "from wordcloud import WordCloud, STOPWORDS, ImageColorGenerator"
      ],
      "metadata": {
        "id": "_pz3tQ87FS6A"
      },
      "execution_count": null,
      "outputs": []
    },
    {
      "cell_type": "code",
      "source": [
        "twitter_mask = np.array(Image.open('/kaggle/input/maskwordclud22/Mask-wordcloud/twitter_mask3.jpg'))\n",
        "\n",
        "wc = WordCloud(\n",
        "    background_color='white', \n",
        "    max_words=200, \n",
        "    mask=twitter_mask,\n",
        ")\n",
        "wc.generate(' '.join(text for text in df.loc[df['target'] == 'spam', 'message']))\n",
        "plt.figure(figsize=(18,10))\n",
        "plt.title('Top words for Spam messages', \n",
        "          fontdict={'size': 22,  'verticalalignment': 'bottom'})\n",
        "plt.imshow(wc)\n",
        "plt.axis(\"off\")\n",
        "plt.show()\n"
      ],
      "metadata": {
        "id": "fQb342fDFWfo"
      },
      "execution_count": null,
      "outputs": []
    },
    {
      "cell_type": "code",
      "source": [
        "twitter_mask = np.array(Image.open('/kaggle/input/maskwordclud22/Mask-wordcloud/twitter_mask3.jpg'))\n",
        "\n",
        "wc = WordCloud(\n",
        "    background_color='white', \n",
        "    max_words=200, \n",
        "    mask=twitter_mask,\n",
        ")\n",
        "wc.generate(' '.join(text for text in df.loc[df['target'] == 'ham', 'message']))\n",
        "plt.figure(figsize=(18,10))\n",
        "plt.title('Top words for Ham messages', \n",
        "          fontdict={'size': 22,  'verticalalignment': 'bottom'})\n",
        "plt.imshow(wc)\n",
        "plt.axis(\"off\")\n",
        "plt.show()"
      ],
      "metadata": {
        "id": "2JWfO3ivF3aT"
      },
      "execution_count": null,
      "outputs": []
    },
    {
      "cell_type": "code",
      "source": [
        "#https://www.kaggle.com/code/karanchinchpure/nlp-pipeline-details-explained#1.1-Feature-Engineering\n",
        "#create spam corpus which will holds all Spam words\n",
        "spam_corpus = []\n",
        "for msg in df[df['target_encoded'] == 1]['message'].tolist():\n",
        "    for word in msg.split():\n",
        "        spam_corpus.append(word)\n",
        "from collections import Counter\n",
        "plt.figure(figsize=(10,7))\n",
        "sns.barplot(y=pd.DataFrame(Counter(spam_corpus).most_common(25))[0],x=pd.DataFrame(Counter(spam_corpus).most_common(30))[1])\n",
        "plt.xticks()\n",
        "plt.title(\"Most Commonly Used Ham Words\")\n",
        "plt.xlabel(\"Frequnecy\")\n",
        "plt.ylabel(\"Ham Words\")\n",
        "plt.show()"
      ],
      "metadata": {
        "id": "OPVGoB-PF4Gi"
      },
      "execution_count": null,
      "outputs": []
    },
    {
      "cell_type": "code",
      "source": [
        "#https://www.kaggle.com/code/karanchinchpure/nlp-pipeline-details-explained#1.1-Feature-Engineering\n",
        "#create spam corpus which will holds all Ham or Non Spam words\n",
        "ham_corpus = []\n",
        "for msg in df[df['target_encoded'] == 0]['message'].tolist():\n",
        "    for word in msg.split():\n",
        "        ham_corpus.append(word)\n",
        "from collections import Counter\n",
        "plt.figure(figsize=(10,7))\n",
        "sns.barplot(y=pd.DataFrame(Counter(ham_corpus).most_common(25))[0],x=pd.DataFrame(Counter(ham_corpus).most_common(30))[1])\n",
        "plt.xticks()\n",
        "plt.title(\"Most Commonly Used Spam Words\")\n",
        "plt.xlabel(\"Frequnecy\")\n",
        "plt.ylabel(\"Spam Words\")\n",
        "plt.show()"
      ],
      "metadata": {
        "id": "IsrG4sgvF8P1"
      },
      "execution_count": null,
      "outputs": []
    },
    {
      "cell_type": "code",
      "source": [
        "#https://www.kaggle.com/code/karanchinchpure/nlp-pipeline-details-explained#1.1-Feature-Engineering\n",
        "#Characters Visualize\n",
        "fig,(ax1,ax2)=plt.subplots(1,2,figsize=(15,6))\n",
        "text_len=df[df['target_encoded']==1]['num_char']\n",
        "ax1.hist(text_len,color='green')\n",
        "ax1.set_title('Original text')\n",
        "text_len=df[df['target_encoded']==0]['num_char']\n",
        "ax2.hist(text_len,color='red')\n",
        "ax2.set_title('Fake text')\n",
        "fig.suptitle('Characters in texts')\n",
        "plt.show()\n"
      ],
      "metadata": {
        "id": "Mv_0AafeGEK3"
      },
      "execution_count": null,
      "outputs": []
    },
    {
      "cell_type": "code",
      "source": [
        "#https://www.kaggle.com/code/karanchinchpure/nlp-pipeline-details-explained#1.1-Feature-Engineering\n",
        "#Words Visualize\n",
        "fig,(ax1,ax2)=plt.subplots(1,2,figsize=(15,6))\n",
        "text_len=df[df['target_encoded']==1]['num_wd']\n",
        "ax1.hist(text_len,color='green')\n",
        "ax1.set_title('Original text')\n",
        "text_len=df[df['target_encoded']==0]['num_wd']\n",
        "ax2.hist(text_len,color='red')\n",
        "ax2.set_title('Fake text')\n",
        "fig.suptitle('Words in texts')\n",
        "plt.show()"
      ],
      "metadata": {
        "id": "2Z9gnQdsGHIi"
      },
      "execution_count": null,
      "outputs": []
    },
    {
      "cell_type": "code",
      "source": [
        "x = df['new_message']\n",
        "y = df['target_encoded']\n",
        "\n",
        "print(len(x), len(y))\n",
        "5169 5169"
      ],
      "metadata": {
        "id": "HlRbX--GGKqq"
      },
      "execution_count": null,
      "outputs": []
    },
    {
      "cell_type": "code",
      "source": [
        "from sklearn.model_selection import train_test_split\n",
        "\n",
        "x_train, x_test, y_train, y_test = train_test_split(x, y, random_state=42)\n",
        "print(len(x_train), len(y_train))\n",
        "print(len(x_test), len(y_test))\n",
        "3876 3876\n",
        "1293 1293"
      ],
      "metadata": {
        "id": "mkmopklkGU5Q"
      },
      "execution_count": null,
      "outputs": []
    },
    {
      "cell_type": "code",
      "source": [
        "from sklearn.feature_extraction.text import CountVectorizer\n",
        "\n",
        "vect = CountVectorizer()\n",
        "vect.fit(x_train)"
      ],
      "metadata": {
        "id": "Wq5VKBGuGViB"
      },
      "execution_count": null,
      "outputs": []
    },
    {
      "cell_type": "code",
      "source": [
        "x_train_dtm = vect.transform(x_train)\n",
        "x_test_dtm = vect.transform(x_test)"
      ],
      "metadata": {
        "id": "-u0HNlQeGaP1"
      },
      "execution_count": null,
      "outputs": []
    },
    {
      "cell_type": "code",
      "source": [
        "vect_tunned = CountVectorizer(stop_words='english', ngram_range=(1,2), min_df=0.1, max_df=0.7, max_features=100)"
      ],
      "metadata": {
        "id": "rZk2y5DyGd4s"
      },
      "execution_count": null,
      "outputs": []
    },
    {
      "cell_type": "code",
      "source": [
        "from sklearn.feature_extraction.text import TfidfTransformer\n",
        "\n",
        "tfidf_transformer = TfidfTransformer()\n",
        "\n",
        "tfidf_transformer.fit(x_train_dtm)\n",
        "x_train_tfidf = tfidf_transformer.transform(x_train_dtm)\n",
        "\n",
        "x_train_tfidf"
      ],
      "metadata": {
        "id": "QB230PSMGgqW"
      },
      "execution_count": null,
      "outputs": []
    },
    {
      "cell_type": "code",
      "source": [
        "texts = df['new_message']\n",
        "target = df['target_encoded']"
      ],
      "metadata": {
        "id": "4bAlPvbpGjuh"
      },
      "execution_count": null,
      "outputs": []
    },
    {
      "cell_type": "code",
      "source": [
        "from keras.preprocessing.text import Tokenizer"
      ],
      "metadata": {
        "id": "ZzOLiZQtGmc_"
      },
      "execution_count": null,
      "outputs": []
    },
    {
      "cell_type": "code",
      "source": [
        "word_tokenizer = Tokenizer()\n",
        "word_tokenizer.fit_on_texts(texts)\n",
        "\n",
        "vocab_length = len(word_tokenizer.word_index) + 1\n",
        "vocab_length"
      ],
      "metadata": {
        "id": "tLcWnqYlGotF"
      },
      "execution_count": null,
      "outputs": []
    },
    {
      "cell_type": "code",
      "source": [
        "import tensorflow as tf"
      ],
      "metadata": {
        "id": "ipZYm47AGsOT"
      },
      "execution_count": null,
      "outputs": []
    },
    {
      "cell_type": "code",
      "source": [
        "from tensorflow.keras.preprocessing.sequence import pad_sequences"
      ],
      "metadata": {
        "id": "Qtu1uiQnGvHm"
      },
      "execution_count": null,
      "outputs": []
    },
    {
      "cell_type": "code",
      "source": [
        "from nltk.tokenize import word_tokenize"
      ],
      "metadata": {
        "id": "_TdfJebKGya6"
      },
      "execution_count": null,
      "outputs": []
    },
    {
      "cell_type": "code",
      "source": [
        "def embed(corpus): \n",
        "    return word_tokenizer.texts_to_sequences(corpus)\n",
        "\n",
        "longest_train = max(texts, key=lambda sentence: len(word_tokenize(sentence)))\n",
        "length_long_sentence = len(word_tokenize(longest_train))\n",
        "\n",
        "train_padded_sentences = pad_sequences(\n",
        "    embed(texts), \n",
        "    length_long_sentence, \n",
        "    padding='post'\n",
        ")\n",
        "\n",
        "train_padded_sentence"
      ],
      "metadata": {
        "id": "4mKLhYwPG1FD"
      },
      "execution_count": null,
      "outputs": []
    },
    {
      "cell_type": "code",
      "source": [
        "embeddings_dictionary = dict()\n",
        "embedding_dim = 100\n",
        "\n",
        "# Load GloVe 100D embeddings\n",
        "with open('/kaggle/input/glove6b100dtxt/glove.6B.100d.txt', encoding=\"utf8\") as fp:\n",
        "    for line in fp.readlines():\n",
        "        records = line.split()\n",
        "        word = records[0]\n",
        "        vector_dimensions = np.asarray(records[1:], dtype='float32')\n",
        "        embeddings_dictionary [word] = vector_dimensions\n",
        "# embeddings_dictionary"
      ],
      "metadata": {
        "id": "muxo-oLcHLkT"
      },
      "execution_count": null,
      "outputs": []
    },
    {
      "cell_type": "code",
      "source": [
        "# Now we will load embedding vectors of those words that appear in the\n",
        "# Glove dictionary. Others will be initialized to 0.\n",
        "embedding_matrix = np.zeros((vocab_length, embedding_dim))\n",
        "\n",
        "for word, index in word_tokenizer.word_index.items():\n",
        "    embedding_vector = embeddings_dictionary.get(word)\n",
        "    if embedding_vector is not None:\n",
        "        embedding_matrix[index] = embedding_vector\n",
        "        \n",
        "embedding_matrix"
      ],
      "metadata": {
        "id": "mrrodLzrHNis"
      },
      "execution_count": null,
      "outputs": []
    },
    {
      "cell_type": "code",
      "source": [
        "import plotly.figure_factory as ff\n",
        "\n",
        "x_axes = ['Ham', 'Spam']\n",
        "y_axes =  ['Spam', 'Ham']\n",
        "\n",
        "def conf_matrix(z, x=x_axes, y=y_axes):\n",
        "    \n",
        "    z = np.flip(z, 0)\n",
        "\n",
        "    # change each element of z to type string for annotations\n",
        "    z_text = [[str(y) for y in x] for x in z]\n",
        "\n",
        "    # set up figure \n",
        "    fig = ff.create_annotated_heatmap(z, x=x, y=y, annotation_text=z_text, colorscale='Viridis')\n",
        "\n",
        "    # add title\n",
        "    fig.update_layout(title_text='<b>Confusion matrix</b>',\n",
        "                      xaxis = dict(title='Predicted value'),\n",
        "                      yaxis = dict(title='Real value')\n",
        "                     )\n",
        "\n",
        "    # add colorbar\n",
        "    fig['data'][0]['showscale'] = True\n",
        "    \n",
        "    return fig"
      ],
      "metadata": {
        "id": "VBwMwi4UHSOq"
      },
      "execution_count": null,
      "outputs": []
    },
    {
      "cell_type": "code",
      "source": [
        "from sklearn.naive_bayes import MultinomialNB\n",
        "nb = MultinomialNB()\n",
        "\n",
        "# Train the model\n",
        "nb.fit(x_train_dtm, y_train)"
      ],
      "metadata": {
        "id": "fqYivxriHW6D"
      },
      "execution_count": null,
      "outputs": []
    },
    {
      "cell_type": "code",
      "source": [
        "y_pred_class = nb.predict(x_test_dtm)\n",
        "y_pred_prob = nb.predict_proba(x_test_dtm)[:, 1]"
      ],
      "metadata": {
        "id": "LfPZoM0mHaxi"
      },
      "execution_count": null,
      "outputs": []
    },
    {
      "cell_type": "code",
      "source": [
        "from sklearn import metrics\n",
        "print(metrics.accuracy_score(y_test, y_pred_class))\n",
        "\n",
        "conf_matrix(metrics.confusion_matrix(y_test, y_pred_class))\n",
        "0.9752513534416086"
      ],
      "metadata": {
        "id": "XS8lQmILHe4b"
      },
      "execution_count": null,
      "outputs": []
    },
    {
      "cell_type": "code",
      "source": [
        "from sklearn.feature_extraction.text import TfidfTransformer\n",
        "from sklearn.pipeline import Pipeline\n",
        "\n",
        "pipe = Pipeline([('bow', CountVectorizer()), \n",
        "                 ('tfid', TfidfTransformer()),  \n",
        "                 ('model', MultinomialNB())])"
      ],
      "metadata": {
        "id": "MwJXX7ITHmpH"
      },
      "execution_count": null,
      "outputs": []
    },
    {
      "cell_type": "code",
      "source": [
        "pipe.fit(x_train, y_train)\n",
        "\n",
        "y_pred_class = pipe.predict(x_test)\n",
        "\n",
        "print(metrics.accuracy_score(y_test, y_pred_class))\n",
        "\n",
        "conf_matrix(metrics.confusion_matrix(y_test, y_pred_class))\n",
        "0.9551430781129157"
      ],
      "metadata": {
        "id": "NJS8MfjGHqjo"
      },
      "execution_count": null,
      "outputs": []
    },
    {
      "cell_type": "code",
      "source": [
        "import xgboost as xgb\n",
        "\n",
        "pipe = Pipeline([\n",
        "    ('bow', CountVectorizer()), \n",
        "    ('tfid', TfidfTransformer()),  \n",
        "    ('model', xgb.XGBClassifier(\n",
        "        learning_rate=0.1,\n",
        "        max_depth=7,\n",
        "        n_estimators=80,\n",
        "        use_label_encoder=False,\n",
        "        eval_metric='auc',\n",
        "        colsample_bytree=0.8,\n",
        "        subsample=0.7,\n",
        "        min_child_weight=5,\n",
        "    ))\n",
        "])"
      ],
      "metadata": {
        "id": "5_7UWzVeHuQl"
      },
      "execution_count": null,
      "outputs": []
    },
    {
      "cell_type": "code",
      "source": [
        "pipe.fit(x_train, y_train)\n",
        "\n",
        "y_pred_class = pipe.predict(x_test)\n",
        "y_pred_train = pipe.predict(x_train)\n",
        "\n",
        "print('Train: {}'.format(metrics.accuracy_score(y_train, y_pred_train)))\n",
        "print('Test: {}'.format(metrics.accuracy_score(y_test, y_pred_class)))\n",
        "\n",
        "conf_matrix(metrics.confusion_matrix(y_test, y_pred_class))\n",
        "Train: 0.9574303405572755\n",
        "Test: 0.94276875483372"
      ],
      "metadata": {
        "id": "2UjMDcInHyIr"
      },
      "execution_count": null,
      "outputs": []
    },
    {
      "cell_type": "code",
      "source": [
        "from sklearn.ensemble import RandomForestClassifier\n",
        "from sklearn.pipeline import Pipeline\n",
        "\n",
        "pipe = Pipeline([('bow', CountVectorizer()), \n",
        "                 ('tfid', TfidfTransformer()),  \n",
        "                 ('model', RandomForestClassifier(n_estimators=50, random_state=2))])"
      ],
      "metadata": {
        "id": "T4bvZ6KSH16q"
      },
      "execution_count": null,
      "outputs": []
    },
    {
      "cell_type": "code",
      "source": [
        "pipe.fit(x_train, y_train)\n",
        "\n",
        "y_pred_class = pipe.predict(x_test)\n",
        "\n",
        "print(metrics.accuracy_score(y_test, y_pred_class))\n",
        "\n",
        "conf_matrix(metrics.confusion_matrix(y_test, y_pred_class))\n",
        "0.9651972157772621"
      ],
      "metadata": {
        "id": "aiswwquLH5sZ"
      },
      "execution_count": null,
      "outputs": []
    },
    {
      "cell_type": "code",
      "source": [
        "from sklearn.svm import SVC\n",
        "from sklearn.pipeline import Pipeline\n",
        "\n",
        "pipe = Pipeline([('bow', CountVectorizer()), \n",
        "                 ('tfid', TfidfTransformer()),  \n",
        "                 ('model', SVC(kernel='sigmoid', gamma=1.0))])"
      ],
      "metadata": {
        "id": "Zz27TzB8H9Xv"
      },
      "execution_count": null,
      "outputs": []
    },
    {
      "cell_type": "code",
      "source": [
        "pipe.fit(x_train, y_train)\n",
        "\n",
        "y_pred_class = pipe.predict(x_test)\n",
        "\n",
        "print(metrics.accuracy_score(y_test, y_pred_class))\n",
        "\n",
        "conf_matrix(metrics.confusion_matrix(y_test, y_pred_class))\n",
        "0.9791183294663574"
      ],
      "metadata": {
        "id": "tHi_HWz7IBDk"
      },
      "execution_count": null,
      "outputs": []
    },
    {
      "cell_type": "code",
      "source": [
        "X_train, X_test, y_train, y_test = train_test_split(\n",
        "    train_padded_sentences, \n",
        "    target, \n",
        "    test_size=0.25\n",
        ")"
      ],
      "metadata": {
        "id": "OSRkOdT8IHvd"
      },
      "execution_count": null,
      "outputs": []
    },
    {
      "cell_type": "code",
      "source": [
        "import tensorflow\n",
        "import keras\n",
        "from keras.models import Sequential\n",
        "from keras.initializers import Constant\n",
        "from keras.layers import (LSTM, \n",
        "                          Embedding, \n",
        "                          BatchNormalization,\n",
        "                          Dense, \n",
        "                          TimeDistributed, \n",
        "                          Dropout, \n",
        "                          Bidirectional,\n",
        "                          Flatten, \n",
        "                          GlobalMaxPool1D)\n",
        "from keras.preprocessing.text import Tokenizer\n",
        "from tensorflow.keras.layers import Embedding\n",
        "from tensorflow.keras.callbacks import ModelCheckpoint, ReduceLROnPlateau\n",
        "from tensorflow.keras.optimizers import Adam\n",
        "\n",
        "from sklearn.metrics import (\n",
        "    precision_score, \n",
        "    recall_score, \n",
        "    f1_score, \n",
        "    classification_report,\n",
        "    accuracy_score\n",
        ")import tensorflow\n",
        "import keras\n",
        "from keras.models import Sequential\n",
        "from keras.initializers import Constant\n",
        "from keras.layers import (LSTM, \n",
        "                          Embedding, \n",
        "                          BatchNormalization,\n",
        "                          Dense, \n",
        "                          TimeDistributed, \n",
        "                          Dropout, \n",
        "                          Bidirectional,\n",
        "                          Flatten, \n",
        "                          GlobalMaxPool1D)\n",
        "from keras.preprocessing.text import Tokenizer\n",
        "from tensorflow.keras.layers import Embedding\n",
        "from tensorflow.keras.callbacks import ModelCheckpoint, ReduceLROnPlateau\n",
        "from tensorflow.keras.optimizers import Adam\n",
        "\n",
        "from sklearn.metrics import (\n",
        "    precision_score, \n",
        "    recall_score, \n",
        "    f1_score, \n",
        "    classification_report,\n",
        "    accuracy_score\n",
        ")"
      ],
      "metadata": {
        "id": "2C7nwEjNIIcd"
      },
      "execution_count": null,
      "outputs": []
    },
    {
      "cell_type": "code",
      "source": [
        "def glove_lstm():\n",
        "    model = Sequential()\n",
        "    \n",
        "    model.add(Embedding(\n",
        "        input_dim=embedding_matrix.shape[0], \n",
        "        output_dim=embedding_matrix.shape[1], \n",
        "        weights = [embedding_matrix], \n",
        "        input_length=length_long_sentence\n",
        "    ))\n",
        "    \n",
        "    model.add(Bidirectional(LSTM(\n",
        "        length_long_sentence, \n",
        "        return_sequences = True, \n",
        "        recurrent_dropout=0.2\n",
        "    )))\n",
        "    \n",
        "    model.add(GlobalMaxPool1D())\n",
        "    model.add(BatchNormalization())\n",
        "    model.add(Dropout(0.5))\n",
        "    model.add(Dense(length_long_sentence, activation = \"relu\"))\n",
        "    model.add(Dropout(0.5))\n",
        "    model.add(Dense(length_long_sentence, activation = \"relu\"))\n",
        "    model.add(Dropout(0.5))\n",
        "    model.add(Dense(1, activation = 'sigmoid'))\n",
        "    model.compile(optimizer='rmsprop', loss='binary_crossentropy', metrics=['accuracy'])\n",
        "    \n",
        "    return model\n",
        "\n",
        "model = glove_lstm()\n",
        "model.summary()\n",
        "Model: \"sequential\"\n",
        "_________________________________________________________________\n",
        " Layer (type)                Output Shape              Param #   \n",
        "=================================================================\n",
        " embedding (Embedding)       (None, 69, 100)           696400    \n",
        "                                                                 \n",
        " bidirectional (Bidirectiona  (None, 69, 138)          93840     \n",
        " l)                                                              \n",
        "                                                                 \n",
        " global_max_pooling1d (Globa  (None, 138)              0         \n",
        " lMaxPooling1D)                                                  \n",
        "                                                                 \n",
        " batch_normalization (BatchN  (None, 138)              552       \n",
        " ormalization)                                                   \n",
        "                                                                 \n",
        " dropout (Dropout)           (None, 138)               0         \n",
        "                                                                 \n",
        " dense (Dense)               (None, 69)                9591      \n",
        "                                                                 \n",
        " dropout_1 (Dropout)         (None, 69)                0         \n",
        "                                                                 \n",
        " dense_1 (Dense)             (None, 69)                4830      \n",
        "                                                                 \n",
        " dropout_2 (Dropout)         (None, 69)                0         \n",
        "                                                                 \n",
        " dense_2 (Dense)             (None, 1)                 70        \n",
        "                                                                 \n",
        "=================================================================\n",
        "Total params: 805,283\n",
        "Trainable params: 805,007\n",
        "Non-trainable params: 276\n",
        "_________________________________________________________________"
      ],
      "metadata": {
        "id": "LVRv6b5KIMu-"
      },
      "execution_count": null,
      "outputs": []
    },
    {
      "cell_type": "code",
      "source": [
        "model = glove_lstm()\n",
        "\n",
        "checkpoint = ModelCheckpoint(\n",
        "    'model.h5', \n",
        "    monitor = 'val_loss', \n",
        "    verbose = 1, \n",
        "    save_best_only = True\n",
        ")\n",
        "reduce_lr = ReduceLROnPlateau(\n",
        "    monitor = 'val_loss', \n",
        "    factor = 0.2, \n",
        "    verbose = 1, \n",
        "    patience = 5,                        \n",
        "    min_lr = 0.001\n",
        ")\n",
        "history = model.fit(\n",
        "    X_train, \n",
        "    y_train, \n",
        "    epochs = 3,\n",
        "    batch_size = 32,\n",
        "    validation_data = (X_test, y_test),\n",
        "    verbose = 1,\n",
        "    callbacks = [reduce_lr, checkpoint]\n",
        ")\n",
        "Epoch 1/3\n",
        "122/122 [==============================] - ETA: 0s - loss: 0.3761 - accuracy: 0.8638\n",
        "Epoch 1: val_loss improved from inf to 0.32021, saving model to model.h5\n",
        "122/122 [==============================] - 23s 134ms/step - loss: 0.3761 - accuracy: 0.8638 - val_loss: 0.3202 - val_accuracy: 0.9242 - lr: 0.0010\n",
        "Epoch 2/3\n",
        "122/122 [==============================] - ETA: 0s - loss: 0.2140 - accuracy: 0.9223\n",
        "Epoch 2: val_loss improved from 0.32021 to 0.24257, saving model to model.h5\n",
        "122/122 [==============================] - 16s 128ms/step - loss: 0.2140 - accuracy: 0.9223 - val_loss: 0.2426 - val_accuracy: 0.9288 - lr: 0.0010\n",
        "Epoch 3/3\n",
        "122/122 [==============================] - ETA: 0s - loss: 0.1673 - accuracy: 0.9469\n",
        "Epoch 3: val_loss improved from 0.24257 to 0.20176, saving model to model.h5\n",
        "122/122 [==============================] - 15s 126ms/step - loss: 0.1673 - accuracy: 0.9469 - val_loss: 0.2018 - val_accuracy: 0.9312 - lr: 0.0010"
      ],
      "metadata": {
        "id": "uot2_UGyIR_7"
      },
      "execution_count": null,
      "outputs": []
    },
    {
      "cell_type": "code",
      "source": [
        "def plot_learning_curves(history, arr):\n",
        "    fig, ax = plt.subplots(1, 2, figsize=(20, 5))\n",
        "    for idx in range(2):\n",
        "        ax[idx].plot(history.history[arr[idx][0]])\n",
        "        ax[idx].plot(history.history[arr[idx][1]])\n",
        "        ax[idx].legend([arr[idx][0], arr[idx][1]],fontsize=18)\n",
        "        ax[idx].set_xlabel('A ',fontsize=16)\n",
        "        ax[idx].set_ylabel('B',fontsize=16)\n",
        "        ax[idx].set_title(arr[idx][0] + ' X ' + arr[idx][1],fontsize=16)"
      ],
      "metadata": {
        "id": "y8G1xh2MIXMX"
      },
      "execution_count": null,
      "outputs": []
    },
    {
      "cell_type": "code",
      "source": [
        "y_preds = (model.predict(X_test) > 0.5).astype(\"int32\")\n",
        "conf_matrix(metrics.confusion_matrix(y_test, y_preds))"
      ],
      "metadata": {
        "id": "nkgJqHXiIar_"
      },
      "execution_count": null,
      "outputs": []
    },
    {
      "cell_type": "code",
      "source": [
        "import tensorflow as tf\n",
        "from tensorflow.keras.layers import Dense, Input\n",
        "from tensorflow.keras.optimizers import Adam\n",
        "from tensorflow.keras.models import Model\n",
        "from tensorflow.keras.callbacks import ModelCheckpoint\n",
        "\n",
        "import transformers\n",
        "from tqdm.notebook import tqdm\n",
        "from tokenizers import BertWordPieceTokenizer"
      ],
      "metadata": {
        "id": "L79BWb-YIfHY"
      },
      "execution_count": null,
      "outputs": []
    },
    {
      "cell_type": "code",
      "source": [
        "from transformers import BertTokenizer\n",
        "tokenizer = BertTokenizer.from_pretrained('bert-large-uncased')\n",
        "Downloading (…)solve/main/vocab.txt: 100%\n",
        "232k/232k [00:00<00:00, 4.96MB/s]\n",
        "Downloading (…)okenizer_config.json: 100%\n",
        "28.0/28.0 [00:00<00:00, 1.58kB/s]\n",
        "Downloading (…)lve/main/config.json: 100%\n",
        "571/571 [00:00<00:00, 27.3kB/s]"
      ],
      "metadata": {
        "id": "AyaDH40RIiua"
      },
      "execution_count": null,
      "outputs": []
    },
    {
      "cell_type": "code",
      "source": [
        "def bert_encode(data, maximum_length) :\n",
        "    input_ids = []\n",
        "    attention_masks = []\n",
        "\n",
        "    for text in data:\n",
        "        encoded = tokenizer.encode_plus(\n",
        "            text, \n",
        "            add_special_tokens=True,\n",
        "            max_length=maximum_length,\n",
        "            pad_to_max_length=True,\n",
        "\n",
        "            return_attention_mask=True,\n",
        "        )\n",
        "        input_ids.append(encoded['input_ids'])\n",
        "        attention_masks.append(encoded['attention_mask'])\n",
        "        \n",
        "    return np.array(input_ids),np.array(attention_masks)"
      ],
      "metadata": {
        "id": "WhOhCxsbIm2y"
      },
      "execution_count": null,
      "outputs": []
    },
    {
      "cell_type": "code",
      "source": [
        "texts = df['new_message']\n",
        "target = df['target_encoded']\n",
        "\n",
        "train_input_ids, train_attention_masks = bert_encode(texts,60)\n",
        "Truncation was not explicitly activated but `max_length` is provided a specific value, please use `truncation=True` to explicitly truncate examples to max length. Defaulting to 'longest_first' truncation strategy. If you encode pairs of sequences (GLUE-style) with the tokenizer you can select this strategy more precisely by providing a specific strategy to `truncation`."
      ],
      "metadata": {
        "id": "zhCVlk5QIrpd"
      },
      "execution_count": null,
      "outputs": []
    },
    {
      "cell_type": "code",
      "source": [
        "import tensorflow as tf\n",
        "from tensorflow.keras.optimizers import Adam\n",
        "\n",
        "def create_model(bert_model):\n",
        "    \n",
        "    input_ids = tf.keras.Input(shape=(60,),dtype='int32')\n",
        "    attention_masks = tf.keras.Input(shape=(60,),dtype='int32')\n",
        "\n",
        "    output = bert_model([input_ids,attention_masks])\n",
        "    output = output[1]\n",
        "    output = tf.keras.layers.Dense(32,activation='relu')(output)\n",
        "    output = tf.keras.layers.Dropout(0.2)(output)\n",
        "    output = tf.keras.layers.Dense(1,activation='sigmoid')(output)\n",
        "    \n",
        "    model = tf.keras.models.Model(inputs = [input_ids,attention_masks],outputs = output)\n",
        "    model.compile(Adam(lr=1e-5), loss='binary_crossentropy', metrics=['accuracy'])\n",
        "    return model"
      ],
      "metadata": {
        "id": "_war6mFGIw0s"
      },
      "execution_count": null,
      "outputs": []
    },
    {
      "cell_type": "code",
      "source": [
        "from transformers import TFBertModel\n",
        "bert_model = TFBertModel.from_pretrained('bert-base-uncased')\n",
        "Downloading (…)lve/main/config.json: 100%\n",
        "570/570 [00:00<00:00, 32.7kB/s]\n",
        "Downloading tf_model.h5: 100%\n",
        "536M/536M [00:08<00:00, 66.3MB/s]\n",
        "Some layers from the model checkpoint at bert-base-uncased were not used when initializing TFBertModel: ['mlm___cls', 'nsp___cls']\n",
        "- This IS expected if you are initializing TFBertModel from the checkpoint of a model trained on another task or with another architecture (e.g. initializing a BertForSequenceClassification model from a BertForPreTraining model).\n",
        "- This IS NOT expected if you are initializing TFBertModel from the checkpoint of a model that you expect to be exactly identical (initializing a BertForSequenceClassification model from a BertForSequenceClassification model).\n",
        "All the layers of TFBertModel were initialized from the model checkpoint at bert-base-uncased.\n",
        "If your task is similar to the task the model of the checkpoint was trained on, you can already use TFBertModel for predictions without further training."
      ],
      "metadata": {
        "id": "6YgHiy54I0Y0"
      },
      "execution_count": null,
      "outputs": []
    },
    {
      "cell_type": "code",
      "source": [
        "model = create_model(bert_model)\n",
        "model.summary()\n",
        "Model: \"model\"\n",
        "__________________________________________________________________________________________________\n",
        " Layer (type)                   Output Shape         Param #     Connected to                     \n",
        "==================================================================================================\n",
        " input_1 (InputLayer)           [(None, 60)]         0           []                               \n",
        "                                                                                                  \n",
        " input_2 (InputLayer)           [(None, 60)]         0           []                               \n",
        "                                                                                                  \n",
        " tf_bert_model (TFBertModel)    TFBaseModelOutputWi  109482240   ['input_1[0][0]',                \n",
        "                                thPoolingAndCrossAt               'input_2[0][0]']                \n",
        "                                tentions(last_hidde                                               \n",
        "                                n_state=(None, 60,                                                \n",
        "                                768),                                                             \n",
        "                                 pooler_output=(Non                                               \n",
        "                                e, 768),                                                          \n",
        "                                 past_key_values=No                                               \n",
        "                                ne, hidden_states=N                                               \n",
        "                                one, attentions=Non                                               \n",
        "                                e, cross_attentions                                               \n",
        "                                =None)                                                            \n",
        "                                                                                                  \n",
        " dense_6 (Dense)                (None, 32)           24608       ['tf_bert_model[0][1]']          \n",
        "                                                                                                  \n",
        " dropout_43 (Dropout)           (None, 32)           0           ['dense_6[0][0]']                \n",
        "                                                                                                  \n",
        " dense_7 (Dense)                (None, 1)            33          ['dropout_43[0][0]']             \n",
        "                                                                                                  \n",
        "==================================================================================================\n",
        "Total params: 109,506,881\n",
        "Trainable params: 109,506,881\n",
        "Non-trainable params: 0\n",
        "__________________________________________________________________________________________________"
      ],
      "metadata": {
        "id": "nb2svCdkI4uO"
      },
      "execution_count": null,
      "outputs": []
    },
    {
      "cell_type": "code",
      "source": [
        "history = model.fit(\n",
        "    [train_input_ids, train_attention_masks],\n",
        "    target,\n",
        "    validation_split=0.2, \n",
        "    epochs=3,\n",
        "    batch_size=10\n",
        ")\n",
        "Epoch 1/3\n",
        "414/414 [==============================] - 1769s 4s/step - loss: 0.4240 - accuracy: 0.8687 - val_loss: 0.3536 - val_accuracy: 0.8868\n",
        "Epoch 2/3\n",
        "414/414 [==============================] - 1725s 4s/step - loss: 0.4033 - accuracy: 0.8704 - val_loss: 0.3576 - val_accuracy: 0.8868\n",
        "Epoch 3/3\n",
        "414/414 [==============================] - 1729s 4s/step - loss: 0.4076 - accuracy: 0.8704 - val_loss: 0.3559 - val_accuracy: 0.8868"
      ],
      "metadata": {
        "id": "HxEFVA_7I9bI"
      },
      "execution_count": null,
      "outputs": []
    },
    {
      "cell_type": "code",
      "source": [
        "plot_learning_curves(history, [['loss', 'val_loss'],['accuracy', 'val_accuracy']])"
      ],
      "metadata": {
        "id": "ohrY93NVJBJw"
      },
      "execution_count": null,
      "outputs": []
    },
    {
      "cell_type": "code",
      "source": [],
      "metadata": {
        "id": "tee--ArbJD2q"
      },
      "execution_count": null,
      "outputs": []
    },
    {
      "cell_type": "code",
      "source": [],
      "metadata": {
        "id": "iU00sUQYGOwE"
      },
      "execution_count": null,
      "outputs": []
    },
    {
      "cell_type": "code",
      "source": [],
      "metadata": {
        "id": "UsQOQiG5EJX8"
      },
      "execution_count": null,
      "outputs": []
    },
    {
      "cell_type": "code",
      "source": [],
      "metadata": {
        "id": "U-QLIgHtC3WA"
      },
      "execution_count": null,
      "outputs": []
    }
  ],
  "metadata": {
    "colab": {
      "provenance": []
    },
    "kernelspec": {
      "display_name": "Python 3",
      "name": "python3"
    }
  },
  "nbformat": 4,
  "nbformat_minor": 0
}